{
 "cells": [
  {
   "cell_type": "markdown",
   "metadata": {},
   "source": [
    "<h1 align='center'> Domain-Invariant Fake News Detection </h1>\n",
    "<img src=\"images/fake_news.gif\" alt=\"Fake News\" align=\"middle\">"
   ]
  },
  {
   "cell_type": "markdown",
   "metadata": {},
   "source": [
    "### Import Modules"
   ]
  },
  {
   "cell_type": "code",
   "execution_count": 25,
   "metadata": {
    "collapsed": true,
    "slideshow": {
     "slide_type": "slide"
    }
   },
   "outputs": [],
   "source": [
    "import os\n",
    "import pandas as pd"
   ]
  },
  {
   "cell_type": "markdown",
   "metadata": {},
   "source": [
    "### Read the Preprocessed Dataset\n",
    "We crawled over webistes to get real and fake news dataset.<br>\n",
    "The dataset is divided into 5 different categories which is :\n",
    "- India\n",
    "- Politics\n",
    "- Entertainment\n",
    "- Sports and\n",
    "- Technology\n",
    "\n",
    "The preprocessing takes the raw dataset and performs following operations\n",
    "- Lower the text.\n",
    "- Remove Quotes\n",
    "- Remove all the special characters\n",
    "- Replace multiple spaces with one space\n",
    "- Tokenize the Words\n",
    "\n",
    "We are using Pandas to read the dataset where the dataset contains three columns 'title', 'text' and 'label'."
   ]
  },
  {
   "cell_type": "code",
   "execution_count": 26,
   "metadata": {},
   "outputs": [
    {
     "data": {
      "text/html": [
       "<div>\n",
       "<style>\n",
       "    .dataframe thead tr:only-child th {\n",
       "        text-align: right;\n",
       "    }\n",
       "\n",
       "    .dataframe thead th {\n",
       "        text-align: left;\n",
       "    }\n",
       "\n",
       "    .dataframe tbody tr th {\n",
       "        vertical-align: top;\n",
       "    }\n",
       "</style>\n",
       "<table border=\"1\" class=\"dataframe\">\n",
       "  <thead>\n",
       "    <tr style=\"text-align: right;\">\n",
       "      <th></th>\n",
       "      <th>title</th>\n",
       "      <th>text</th>\n",
       "      <th>label</th>\n",
       "    </tr>\n",
       "  </thead>\n",
       "  <tbody>\n",
       "    <tr>\n",
       "      <th>0</th>\n",
       "      <td>mumbai man prays for single buttock in next bi...</td>\n",
       "      <td>while most people pray for wealth health job a...</td>\n",
       "      <td>0</td>\n",
       "    </tr>\n",
       "    <tr>\n",
       "      <th>1</th>\n",
       "      <td>just trying to fit into delhi culture by brand...</td>\n",
       "      <td>putting across his side of the story ex bsp mp...</td>\n",
       "      <td>0</td>\n",
       "    </tr>\n",
       "    <tr>\n",
       "      <th>2</th>\n",
       "      <td>in a bid to solicit support from govt lawyers ...</td>\n",
       "      <td>with fresh allegations against mj akbar croppi...</td>\n",
       "      <td>0</td>\n",
       "    </tr>\n",
       "    <tr>\n",
       "      <th>3</th>\n",
       "      <td>shashi tharoors new book comes with a pocket d...</td>\n",
       "      <td>shashi tharoor is ready with his new book the ...</td>\n",
       "      <td>0</td>\n",
       "    </tr>\n",
       "    <tr>\n",
       "      <th>4</th>\n",
       "      <td>fir against delhi man for threatening couple b...</td>\n",
       "      <td>a case has been registered against former bsp ...</td>\n",
       "      <td>0</td>\n",
       "    </tr>\n",
       "  </tbody>\n",
       "</table>\n",
       "</div>"
      ],
      "text/plain": [
       "                                               title  \\\n",
       "0  mumbai man prays for single buttock in next bi...   \n",
       "1  just trying to fit into delhi culture by brand...   \n",
       "2  in a bid to solicit support from govt lawyers ...   \n",
       "3  shashi tharoors new book comes with a pocket d...   \n",
       "4  fir against delhi man for threatening couple b...   \n",
       "\n",
       "                                                text  label  \n",
       "0  while most people pray for wealth health job a...      0  \n",
       "1  putting across his side of the story ex bsp mp...      0  \n",
       "2  with fresh allegations against mj akbar croppi...      0  \n",
       "3  shashi tharoor is ready with his new book the ...      0  \n",
       "4  a case has been registered against former bsp ...      0  "
      ]
     },
     "execution_count": 26,
     "metadata": {},
     "output_type": "execute_result"
    }
   ],
   "source": [
    "classes = [\"Fake\", \"Real\"]\n",
    "df = pd.read_csv('Preprocessing/news_data_final3.csv')\n",
    "df['label'] = df['label'].apply(classes.index)\n",
    "sentences = df['text'].values\n",
    "label = df['label'].values\n",
    "df.head()"
   ]
  },
  {
   "cell_type": "code",
   "execution_count": 27,
   "metadata": {
    "collapsed": true,
    "slideshow": {
     "slide_type": "slide"
    }
   },
   "outputs": [],
   "source": [
    "from sklearn.model_selection import train_test_split\n",
    "\n",
    "sentences_train, sentences_test, y_train, y_test = train_test_split(sentences, label, test_size=0.25,\n",
    "                                                                   random_state=42)"
   ]
  },
  {
   "cell_type": "markdown",
   "metadata": {},
   "source": [
    "### Helper Function to plot Accuracy & Loss"
   ]
  },
  {
   "cell_type": "code",
   "execution_count": 28,
   "metadata": {
    "collapsed": true
   },
   "outputs": [],
   "source": [
    "import matplotlib.pyplot as plt\n",
    "plt.style.use('ggplot')\n",
    "def plot_history(history):\n",
    "    train_acc = history.history['acc']\n",
    "    val_acc = history.history['val_acc']\n",
    "    train_loss = history.history['loss']\n",
    "    val_loss = history.history['val_loss']\n",
    "    x = list(range(1, len(train_acc)+1))\n",
    "    \n",
    "    plt.figure(figsize=(12,5))\n",
    "    plt.subplot(1,2,1)\n",
    "    plt.plot(x, train_acc, label='Training Accuracy')\n",
    "    plt.plot(x, val_acc, label='Validation Accuracy')\n",
    "    plt.xlabel('Epochs')\n",
    "    plt.ylabel('Accuracy')\n",
    "    plt.title('Accuracy')\n",
    "    plt.legend()\n",
    "    \n",
    "    plt.subplot(1,2,2)\n",
    "    plt.plot(x, train_loss, label='Training Loss')\n",
    "    plt.plot(x, val_loss, label='Validation Loss')\n",
    "    plt.xlabel('Epochs')\n",
    "    plt.ylabel('Loss')\n",
    "    plt.title('Loss')\n",
    "    plt.legend()\n"
   ]
  },
  {
   "cell_type": "markdown",
   "metadata": {},
   "source": [
    "## Using Keras"
   ]
  },
  {
   "cell_type": "code",
   "execution_count": 29,
   "metadata": {
    "collapsed": true
   },
   "outputs": [],
   "source": [
    "from keras import Sequential\n",
    "from keras.layers import Dense, Embedding, Flatten, GlobalMaxPool1D, LSTM, Conv1D\n",
    "from keras.preprocessing.text import Tokenizer\n",
    "from keras.preprocessing.sequence import pad_sequences\n",
    "import numpy as np\n",
    "from keras.callbacks import EarlyStopping\n",
    "import keras"
   ]
  },
  {
   "cell_type": "markdown",
   "metadata": {},
   "source": [
    "### Using GloVe Embedding\n",
    "We are using [GloVe Word Embedding](https://nlp.stanford.edu/projects/glove/) to initialize our word embedding. \n",
    "GloVe is an unsupervised learning algorithm for obtaining vector representations for words. Training is performed on aggregated global word-word co-occurrence statistics from a corpus, and the resulting representations showcase interesting linear substructures of the word vector space. We have used 50 dimensional word embedding vector."
   ]
  },
  {
   "cell_type": "code",
   "execution_count": 30,
   "metadata": {
    "collapsed": true
   },
   "outputs": [],
   "source": [
    "def create_embedding_matrix(filepath, word_index, embedding_dim):\n",
    "    vocab_size = len(word_index) + 1  # Adding again 1 because of reserved 0 index\n",
    "    embedding_matrix = np.zeros((vocab_size, embedding_dim))\n",
    "\n",
    "    with open(filepath) as f:\n",
    "        for line in f:\n",
    "            word, *vector = line.split()\n",
    "            if word in word_index:\n",
    "                idx = word_index[word] \n",
    "                embedding_matrix[idx] = np.array(\n",
    "                    vector, dtype=np.float32)[:embedding_dim]\n",
    "\n",
    "    return embedding_matrix"
   ]
  },
  {
   "cell_type": "markdown",
   "metadata": {},
   "source": [
    "### Tokenization and Padding"
   ]
  },
  {
   "cell_type": "code",
   "execution_count": 31,
   "metadata": {
    "collapsed": true
   },
   "outputs": [],
   "source": [
    "tokenizer = Tokenizer(num_words=5000)\n",
    "tokenizer.fit_on_texts(sentences_train)\n",
    "\n",
    "X_train = tokenizer.texts_to_sequences(sentences_train)\n",
    "X_test = tokenizer.texts_to_sequences(sentences_test)\n",
    "\n",
    "vocab_size = len(tokenizer.word_index) + 1\n",
    "maxlen = 500\n",
    "embedding_dim = 300\n",
    "\n",
    "X_train = pad_sequences(X_train, padding='post', maxlen=maxlen)\n",
    "X_test = pad_sequences(X_test, padding='post', maxlen=maxlen)\n",
    "\n",
    "embedding_matrix = create_embedding_matrix('/scratch/nitin/glove.6B.300d.txt',\n",
    "                                            tokenizer.word_index, embedding_dim)"
   ]
  },
  {
   "cell_type": "markdown",
   "metadata": {},
   "source": [
    "### Model Architecture\n",
    "We are using LSTM based model to classify Fake/Real News. Architecture is as follows.\n",
    "![](images/Project_Arch.jpg)"
   ]
  },
  {
   "cell_type": "code",
   "execution_count": 32,
   "metadata": {},
   "outputs": [
    {
     "name": "stdout",
     "output_type": "stream",
     "text": [
      "_________________________________________________________________\n",
      "Layer (type)                 Output Shape              Param #   \n",
      "=================================================================\n",
      "embedding_13 (Embedding)     (None, 500, 300)          5707200   \n",
      "_________________________________________________________________\n",
      "lstm_13 (LSTM)               (None, 64)                93440     \n",
      "_________________________________________________________________\n",
      "dense_25 (Dense)             (None, 16)                1040      \n",
      "_________________________________________________________________\n",
      "dense_26 (Dense)             (None, 1)                 17        \n",
      "=================================================================\n",
      "Total params: 5,801,697\n",
      "Trainable params: 5,801,697\n",
      "Non-trainable params: 0\n",
      "_________________________________________________________________\n",
      "Train on 480 samples, validate on 160 samples\n",
      "Epoch 1/10\n",
      "480/480 [==============================] - 8s 17ms/step - loss: 0.6929 - acc: 0.6625 - val_loss: 0.6906 - val_acc: 0.6625\n",
      "Epoch 2/10\n",
      "480/480 [==============================] - 5s 11ms/step - loss: 0.6887 - acc: 0.6875 - val_loss: 0.6886 - val_acc: 0.6625\n",
      "Epoch 3/10\n",
      "480/480 [==============================] - 5s 11ms/step - loss: 0.6853 - acc: 0.7021 - val_loss: 0.6868 - val_acc: 0.6500\n",
      "Epoch 4/10\n",
      "480/480 [==============================] - 5s 11ms/step - loss: 0.6820 - acc: 0.7146 - val_loss: 0.6851 - val_acc: 0.6375\n",
      "Epoch 5/10\n",
      "480/480 [==============================] - 5s 11ms/step - loss: 0.6790 - acc: 0.7146 - val_loss: 0.6835 - val_acc: 0.6375\n",
      "Epoch 6/10\n",
      "480/480 [==============================] - 5s 11ms/step - loss: 0.6761 - acc: 0.7167 - val_loss: 0.6820 - val_acc: 0.6438\n",
      "Epoch 7/10\n",
      "480/480 [==============================] - 5s 11ms/step - loss: 0.6733 - acc: 0.7167 - val_loss: 0.6805 - val_acc: 0.6438\n",
      "Epoch 8/10\n",
      "480/480 [==============================] - 5s 11ms/step - loss: 0.6705 - acc: 0.7146 - val_loss: 0.6791 - val_acc: 0.6438\n",
      "Epoch 9/10\n",
      "480/480 [==============================] - 5s 11ms/step - loss: 0.6678 - acc: 0.7146 - val_loss: 0.6778 - val_acc: 0.6438\n",
      "Epoch 10/10\n",
      "480/480 [==============================] - 5s 11ms/step - loss: 0.6651 - acc: 0.7146 - val_loss: 0.6763 - val_acc: 0.6438\n"
     ]
    },
    {
     "data": {
      "image/png": "[encoded data removed]",
      "text/plain": [
       "<Figure size 864x360 with 2 Axes>"
      ]
     },
     "metadata": {},
     "output_type": "display_data"
    },
    {
     "name": "stdout",
     "output_type": "stream",
     "text": [
      "Training Accuracy 0.7145833333333333\n",
      "Testing Accuracy 0.64375\n"
     ]
    }
   ],
   "source": [
    "input_shape = X_train.shape[1]\n",
    "\n",
    "model = Sequential()\n",
    "model.add(Embedding(input_dim=vocab_size,\n",
    "                    output_dim=embedding_dim,\n",
    "                    input_length=maxlen, \n",
    "                    weights=[embedding_matrix],\n",
    "                    trainable=True))\n",
    "\n",
    "model.add(LSTM(64, activation='relu'))\n",
    "model.add(Dense(16, activation='relu'))\n",
    "model.add(Dense(1, activation='sigmoid'))\n",
    "\n",
    "adam = keras.optimizers.Adam(lr=0.0001, decay=0.01)\n",
    "model.compile(optimizer=adam, loss='binary_crossentropy', metrics=['accuracy'])\n",
    "early_stopping = EarlyStopping()\n",
    "callbacks_list = [early_stopping]\n",
    "model.summary()\n",
    "\n",
    "history = model.fit(X_train, y_train, batch_size=64, epochs=10,\n",
    "                    validation_data=(X_test, y_test))#, callbacks = callbacks_list)\n",
    "\n",
    "plot_history(history=history)\n",
    "plt.show()\n",
    "loss, accuracy = model.evaluate(X_train, y_train, verbose = False)\n",
    "print(\"Training Accuracy\", accuracy)\n",
    "\n",
    "loss, accuracy = model.evaluate(X_test, y_test, verbose=False)\n",
    "print(\"Testing Accuracy\", accuracy)"
   ]
  },
  {
   "cell_type": "code",
   "execution_count": null,
   "metadata": {
    "collapsed": true
   },
   "outputs": [],
   "source": []
  }
 ],
 "metadata": {
  "kernelspec": {
   "display_name": "Python 3",
   "language": "python",
   "name": "python3"
  },
  "language_info": {
   "codemirror_mode": {
    "name": "ipython",
    "version": 3
   },
   "file_extension": ".py",
   "mimetype": "text/x-python",
   "name": "python",
   "nbconvert_exporter": "python",
   "pygments_lexer": "ipython3",
   "version": "3.6.3"
  }
 },
 "nbformat": 4,
 "nbformat_minor": 2
}
